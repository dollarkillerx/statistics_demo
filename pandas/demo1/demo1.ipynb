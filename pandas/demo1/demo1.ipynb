{
 "cells": [
  {
   "cell_type": "code",
   "id": "initial_id",
   "metadata": {
    "collapsed": true,
    "ExecuteTime": {
     "end_time": "2024-07-02T11:23:44.902453Z",
     "start_time": "2024-07-02T11:23:44.450474Z"
    }
   },
   "source": [
    "import MetaTrader5 as mt5\n",
    "import pandas as pd\n",
    "\n",
    "mt5.initialize()\n",
    "print(mt5.terminal_info())\n",
    "pd.set_option('display.max_columns', 500)  # 显示的最大列数\n",
    "pd.set_option('display.width', 1500)  # 控制显示输出的最大宽度\n",
    "# 从当日获取10个GBPUSD D1柱形图\n",
    "rates = mt5.copy_rates_from_pos(\"GBPUSDm\", mt5.TIMEFRAME_D1, 0, 10)\n",
    "# 从所获得的数据创建DataFrame\n",
    "rates_frame = pd.DataFrame(rates)\n",
    "# 将时间（以秒为单位）转换为日期时间格式\n",
    "rates_frame['time'] = pd.to_datetime(rates_frame['time'], unit='s')\n",
    "# 显示数据\n",
    "print(\"\\nDisplay dataframe with data\")\n",
    "print(rates_frame)\n",
    "\n"
   ],
   "outputs": [
    {
     "name": "stdout",
     "output_type": "stream",
     "text": [
      "TerminalInfo(community_account=False, community_connection=False, connected=True, dlls_allowed=False, trade_allowed=True, tradeapi_disabled=False, email_enabled=False, ftp_enabled=False, notifications_enabled=False, mqid=False, build=4410, maxbars=100000, codepage=936, ping_last=82024, community_balance=0.0, retransmission=2.0599595365091043, company='MetaQuotes Ltd.', name='MetaTrader 5', language='Chinese (Simplified)', path='C:\\\\Program Files\\\\MetaTrader 5', data_path='C:\\\\Users\\\\adapa\\\\AppData\\\\Roaming\\\\MetaQuotes\\\\Terminal\\\\D0E8209F77C8CF37AD8BF550E51FF075', commondata_path='C:\\\\Users\\\\adapa\\\\AppData\\\\Roaming\\\\MetaQuotes\\\\Terminal\\\\Common')\n",
      "\n",
      "Display dataframe with data\n",
      "        time     open     high      low    close  tick_volume  spread  real_volume\n",
      "0 2024-06-21  1.26596  1.26748  1.26217  1.26431        41225      12            0\n",
      "1 2024-06-23  1.26355  1.26453  1.26250  1.26374         2272      12            0\n",
      "2 2024-06-24  1.26375  1.26974  1.26323  1.26812        38259      12            0\n",
      "3 2024-06-25  1.26813  1.27020  1.26694  1.26835        36333      12            0\n",
      "4 2024-06-26  1.26835  1.26930  1.26150  1.26207        41962      12            0\n",
      "5 2024-06-27  1.26205  1.26700  1.26123  1.26435        41145      12            0\n",
      "6 2024-06-28  1.26435  1.26651  1.26191  1.26443        46387      12            0\n",
      "7 2024-06-30  1.26332  1.26506  1.26267  1.26479         2592      12            0\n",
      "8 2024-07-01  1.26479  1.27107  1.26328  1.26447        44622      12            0\n",
      "9 2024-07-02  1.26447  1.26479  1.26151  1.26433        17286      12            0\n"
     ]
    }
   ],
   "execution_count": 1
  },
  {
   "metadata": {},
   "cell_type": "markdown",
   "source": "",
   "id": "88085a951012d6be"
  },
  {
   "metadata": {
    "ExecuteTime": {
     "end_time": "2024-07-02T12:32:56.762678Z",
     "start_time": "2024-07-02T12:32:56.748875Z"
    }
   },
   "cell_type": "code",
   "source": [
    "import pandas as pd\n",
    "import numpy as np\n",
    "\n",
    "data = np.arange(-12, 12).reshape((6, 4))\n",
    "df = pd.DataFrame(\n",
    "  data, \n",
    "  index=list(\"abcdef\"), \n",
    "  columns=list(\"ABCD\"))\n",
    "df\n",
    "\n",
    "\n"
   ],
   "id": "9de7d3bf889435f6",
   "outputs": [
    {
     "data": {
      "text/plain": [
       "    A   B   C   D\n",
       "a -12 -11 -10  -9\n",
       "b  -8  -7  -6  -5\n",
       "c  -4  -3  -2  -1\n",
       "d   0   1   2   3\n",
       "e   4   5   6   7\n",
       "f   8   9  10  11"
      ],
      "text/html": [
       "<div>\n",
       "<style scoped>\n",
       "    .dataframe tbody tr th:only-of-type {\n",
       "        vertical-align: middle;\n",
       "    }\n",
       "\n",
       "    .dataframe tbody tr th {\n",
       "        vertical-align: top;\n",
       "    }\n",
       "\n",
       "    .dataframe thead th {\n",
       "        text-align: right;\n",
       "    }\n",
       "</style>\n",
       "<table border=\"1\" class=\"dataframe\">\n",
       "  <thead>\n",
       "    <tr style=\"text-align: right;\">\n",
       "      <th></th>\n",
       "      <th>A</th>\n",
       "      <th>B</th>\n",
       "      <th>C</th>\n",
       "      <th>D</th>\n",
       "    </tr>\n",
       "  </thead>\n",
       "  <tbody>\n",
       "    <tr>\n",
       "      <th>a</th>\n",
       "      <td>-12</td>\n",
       "      <td>-11</td>\n",
       "      <td>-10</td>\n",
       "      <td>-9</td>\n",
       "    </tr>\n",
       "    <tr>\n",
       "      <th>b</th>\n",
       "      <td>-8</td>\n",
       "      <td>-7</td>\n",
       "      <td>-6</td>\n",
       "      <td>-5</td>\n",
       "    </tr>\n",
       "    <tr>\n",
       "      <th>c</th>\n",
       "      <td>-4</td>\n",
       "      <td>-3</td>\n",
       "      <td>-2</td>\n",
       "      <td>-1</td>\n",
       "    </tr>\n",
       "    <tr>\n",
       "      <th>d</th>\n",
       "      <td>0</td>\n",
       "      <td>1</td>\n",
       "      <td>2</td>\n",
       "      <td>3</td>\n",
       "    </tr>\n",
       "    <tr>\n",
       "      <th>e</th>\n",
       "      <td>4</td>\n",
       "      <td>5</td>\n",
       "      <td>6</td>\n",
       "      <td>7</td>\n",
       "    </tr>\n",
       "    <tr>\n",
       "      <th>f</th>\n",
       "      <td>8</td>\n",
       "      <td>9</td>\n",
       "      <td>10</td>\n",
       "      <td>11</td>\n",
       "    </tr>\n",
       "  </tbody>\n",
       "</table>\n",
       "</div>"
      ]
     },
     "execution_count": 2,
     "metadata": {},
     "output_type": "execute_result"
    }
   ],
   "execution_count": 2
  },
  {
   "metadata": {
    "ExecuteTime": {
     "end_time": "2024-07-02T12:33:40.588500Z",
     "start_time": "2024-07-02T12:33:40.583521Z"
    }
   },
   "cell_type": "code",
   "source": "df[\"B\"]",
   "id": "e114e5371b6f2542",
   "outputs": [
    {
     "data": {
      "text/plain": [
       "a   -11\n",
       "b    -7\n",
       "c    -3\n",
       "d     1\n",
       "e     5\n",
       "f     9\n",
       "Name: B, dtype: int32"
      ]
     },
     "execution_count": 3,
     "metadata": {},
     "output_type": "execute_result"
    }
   ],
   "execution_count": 3
  },
  {
   "metadata": {
    "ExecuteTime": {
     "end_time": "2024-07-02T12:33:52.605177Z",
     "start_time": "2024-07-02T12:33:52.595415Z"
    }
   },
   "cell_type": "code",
   "source": [
    "print(\"numpy:\\n\", data[:, [2,1]])\n",
    "print(\"\\ndf:\\n\", df[[\"C\", \"B\"]])"
   ],
   "id": "bfa363ccb345d1d9",
   "outputs": [
    {
     "name": "stdout",
     "output_type": "stream",
     "text": [
      "numpy:\n",
      " [[-10 -11]\n",
      " [ -6  -7]\n",
      " [ -2  -3]\n",
      " [  2   1]\n",
      " [  6   5]\n",
      " [ 10   9]]\n",
      "\n",
      "df:\n",
      "     C   B\n",
      "a -10 -11\n",
      "b  -6  -7\n",
      "c  -2  -3\n",
      "d   2   1\n",
      "e   6   5\n",
      "f  10   9\n"
     ]
    }
   ],
   "execution_count": 4
  },
  {
   "metadata": {
    "ExecuteTime": {
     "end_time": "2024-07-02T12:35:20.121682Z",
     "start_time": "2024-07-02T12:35:20.110627Z"
    }
   },
   "cell_type": "code",
   "source": [
    "data[2:3, 1:3]\n",
    "df.loc[\"c\":\"d\", \"B\":\"D\"]\n"
   ],
   "id": "7a9edaa6f20ef4f8",
   "outputs": [
    {
     "data": {
      "text/plain": [
       "   B  C  D\n",
       "c -3 -2 -1\n",
       "d  1  2  3"
      ],
      "text/html": [
       "<div>\n",
       "<style scoped>\n",
       "    .dataframe tbody tr th:only-of-type {\n",
       "        vertical-align: middle;\n",
       "    }\n",
       "\n",
       "    .dataframe tbody tr th {\n",
       "        vertical-align: top;\n",
       "    }\n",
       "\n",
       "    .dataframe thead th {\n",
       "        text-align: right;\n",
       "    }\n",
       "</style>\n",
       "<table border=\"1\" class=\"dataframe\">\n",
       "  <thead>\n",
       "    <tr style=\"text-align: right;\">\n",
       "      <th></th>\n",
       "      <th>B</th>\n",
       "      <th>C</th>\n",
       "      <th>D</th>\n",
       "    </tr>\n",
       "  </thead>\n",
       "  <tbody>\n",
       "    <tr>\n",
       "      <th>c</th>\n",
       "      <td>-3</td>\n",
       "      <td>-2</td>\n",
       "      <td>-1</td>\n",
       "    </tr>\n",
       "    <tr>\n",
       "      <th>d</th>\n",
       "      <td>1</td>\n",
       "      <td>2</td>\n",
       "      <td>3</td>\n",
       "    </tr>\n",
       "  </tbody>\n",
       "</table>\n",
       "</div>"
      ]
     },
     "execution_count": 6,
     "metadata": {},
     "output_type": "execute_result"
    }
   ],
   "execution_count": 6
  },
  {
   "metadata": {
    "ExecuteTime": {
     "end_time": "2024-07-02T12:35:38.185336Z",
     "start_time": "2024-07-02T12:35:38.179427Z"
    }
   },
   "cell_type": "code",
   "source": [
    "df2 = pd.DataFrame(\n",
    "  data, \n",
    "  index=list(\"beacdf\"), \n",
    "  columns=list(\"ABCD\"))\n",
    "print(df2)\n",
    "print(df2.loc[\"e\":\"c\"])"
   ],
   "id": "91922beb80aca6cb",
   "outputs": [
    {
     "name": "stdout",
     "output_type": "stream",
     "text": [
      "    A   B   C   D\n",
      "b -12 -11 -10  -9\n",
      "e  -8  -7  -6  -5\n",
      "a  -4  -3  -2  -1\n",
      "c   0   1   2   3\n",
      "d   4   5   6   7\n",
      "f   8   9  10  11\n",
      "   A  B  C  D\n",
      "e -8 -7 -6 -5\n",
      "a -4 -3 -2 -1\n",
      "c  0  1  2  3\n"
     ]
    }
   ],
   "execution_count": 7
  },
  {
   "metadata": {
    "ExecuteTime": {
     "end_time": "2024-07-02T12:36:11.081867Z",
     "start_time": "2024-07-02T12:36:11.077700Z"
    }
   },
   "cell_type": "code",
   "source": [
    "print(\"numpy:\\n\", data[2:3, 1:3])\n",
    "print(\"\\ndf:\\n\", df.iloc[2:3, 1:3])"
   ],
   "id": "8888102c2c24a955",
   "outputs": [
    {
     "name": "stdout",
     "output_type": "stream",
     "text": [
      "numpy:\n",
      " [[-3 -2]]\n",
      "\n",
      "df:\n",
      "    B  C\n",
      "c -3 -2\n"
     ]
    }
   ],
   "execution_count": 8
  },
  {
   "metadata": {
    "ExecuteTime": {
     "end_time": "2024-07-02T12:36:45.512278Z",
     "start_time": "2024-07-02T12:36:45.505998Z"
    }
   },
   "cell_type": "code",
   "source": [
    "row_labels = df.index[2:4]\n",
    "print(\"row_labels:\\n\", row_labels)\n",
    "print(\"\\ndf:\\n\", df.loc[row_labels, [\"A\", \"C\"]])"
   ],
   "id": "c5feca6b204a03e7",
   "outputs": [
    {
     "name": "stdout",
     "output_type": "stream",
     "text": [
      "row_labels:\n",
      " Index(['c', 'd'], dtype='object')\n",
      "\n",
      "df:\n",
      "    A  C\n",
      "c -4 -2\n",
      "d  0  2\n"
     ]
    }
   ],
   "execution_count": 9
  }
 ],
 "metadata": {
  "kernelspec": {
   "display_name": "Python 3",
   "language": "python",
   "name": "python3"
  },
  "language_info": {
   "codemirror_mode": {
    "name": "ipython",
    "version": 2
   },
   "file_extension": ".py",
   "mimetype": "text/x-python",
   "name": "python",
   "nbconvert_exporter": "python",
   "pygments_lexer": "ipython2",
   "version": "2.7.6"
  }
 },
 "nbformat": 4,
 "nbformat_minor": 5
}
